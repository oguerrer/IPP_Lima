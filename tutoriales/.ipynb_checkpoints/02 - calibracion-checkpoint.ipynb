{
 "cells": [
  {
   "cell_type": "markdown",
   "id": "8824f2b2",
   "metadata": {},
   "source": [
    "# Calibración de IPP\n",
    "\n",
    "En este cuaderno vamos a preparar los datos para IPP, y a correr el algoritmo de calibración. Al final obtendremos una tabla con los parámetros de cada indicador así como las métricas de bondad de ajuste correspondientes. Después, verificaremos que los parámetros obtenidos son consistentes con los que fueron calculados para el reporte (para los cuales se empleó un criterio de precisión más exigente que el de este cuaderno)."
   ]
  },
  {
   "cell_type": "code",
   "execution_count": null,
   "id": "e17cf37e",
   "metadata": {},
   "outputs": [],
   "source": [
    "# cargamos las librerias a usar\n",
    "import matplotlib.pyplot as plt\n",
    "import numpy as np\n",
    "import pandas as pd\n",
    "from joblib import Parallel, delayed # esta librería nos ayuda a correr múltiples simulaciones en paralelo\n"
   ]
  },
  {
   "cell_type": "markdown",
   "id": "d2a7f08a",
   "metadata": {},
   "source": [
    "## Preparación de los indicadores"
   ]
  },
  {
   "cell_type": "code",
   "execution_count": null,
   "id": "d5a7834d",
   "metadata": {},
   "outputs": [],
   "source": []
  }
 ],
 "metadata": {
  "kernelspec": {
   "display_name": "Python 3",
   "language": "python",
   "name": "python3"
  },
  "language_info": {
   "codemirror_mode": {
    "name": "ipython",
    "version": 3
   },
   "file_extension": ".py",
   "mimetype": "text/x-python",
   "name": "python",
   "nbconvert_exporter": "python",
   "pygments_lexer": "ipython3",
   "version": "3.8.5"
  }
 },
 "nbformat": 4,
 "nbformat_minor": 5
}
