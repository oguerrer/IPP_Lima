{
 "cells": [
  {
   "cell_type": "markdown",
   "id": "ae9177ab",
   "metadata": {},
   "source": [
    "# Calibración de IPP\n",
    "\n",
    "En este cuaderno vamos a preparar los datos para IPP, y a correr el algoritmo de calibración. Al final obtendremos una tabla con los parámetros de cada indicador así como las métricas de bondad de ajuste correspondientes. Después, verificaremos que los parámetros obtenidos son consistentes con los que fueron calculados para el reporte (para los cuales se empleó un criterio de precisión más exigente que el de este cuaderno)."
   ]
  },
  {
   "cell_type": "markdown",
   "id": "9afa49af",
   "metadata": {},
   "source": [
    "## Preparación de indicadores"
   ]
  },
  {
   "cell_type": "code",
   "execution_count": null,
   "id": "73b80f1d",
   "metadata": {},
   "outputs": [],
   "source": []
  }
 ],
 "metadata": {
  "kernelspec": {
   "display_name": "Python 3",
   "language": "python",
   "name": "python3"
  },
  "language_info": {
   "codemirror_mode": {
    "name": "ipython",
    "version": 3
   },
   "file_extension": ".py",
   "mimetype": "text/x-python",
   "name": "python",
   "nbconvert_exporter": "python",
   "pygments_lexer": "ipython3",
   "version": "3.8.5"
  }
 },
 "nbformat": 4,
 "nbformat_minor": 5
}
